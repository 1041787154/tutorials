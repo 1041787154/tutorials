{
 "cells": [
  {
   "cell_type": "code",
   "execution_count": 1,
   "metadata": {
    "scrolled": true
   },
   "outputs": [
    {
     "name": "stdout",
     "output_type": "stream",
     "text": [
      "0.16\n",
      "Python 3.5.2\r\n"
     ]
    }
   ],
   "source": [
    "import catboost\n",
    "print(catboost.__version__)\n",
    "!python --version"
   ]
  },
  {
   "cell_type": "markdown",
   "metadata": {},
   "source": [
    "# Preparing data"
   ]
  },
  {
   "cell_type": "code",
   "execution_count": 2,
   "metadata": {
    "scrolled": false
   },
   "outputs": [
    {
     "data": {
      "text/html": [
       "<div>\n",
       "<style scoped>\n",
       "    .dataframe tbody tr th:only-of-type {\n",
       "        vertical-align: middle;\n",
       "    }\n",
       "\n",
       "    .dataframe tbody tr th {\n",
       "        vertical-align: top;\n",
       "    }\n",
       "\n",
       "    .dataframe thead th {\n",
       "        text-align: right;\n",
       "    }\n",
       "</style>\n",
       "<table border=\"1\" class=\"dataframe\">\n",
       "  <thead>\n",
       "    <tr style=\"text-align: right;\">\n",
       "      <th></th>\n",
       "      <th>Pclass</th>\n",
       "      <th>Sex</th>\n",
       "      <th>Age</th>\n",
       "      <th>SibSp</th>\n",
       "      <th>Fare</th>\n",
       "    </tr>\n",
       "  </thead>\n",
       "  <tbody>\n",
       "    <tr>\n",
       "      <th>0</th>\n",
       "      <td>3</td>\n",
       "      <td>male</td>\n",
       "      <td>22.0</td>\n",
       "      <td>1</td>\n",
       "      <td>7.2500</td>\n",
       "    </tr>\n",
       "    <tr>\n",
       "      <th>1</th>\n",
       "      <td>1</td>\n",
       "      <td>female</td>\n",
       "      <td>38.0</td>\n",
       "      <td>1</td>\n",
       "      <td>71.2833</td>\n",
       "    </tr>\n",
       "    <tr>\n",
       "      <th>2</th>\n",
       "      <td>3</td>\n",
       "      <td>female</td>\n",
       "      <td>26.0</td>\n",
       "      <td>0</td>\n",
       "      <td>7.9250</td>\n",
       "    </tr>\n",
       "  </tbody>\n",
       "</table>\n",
       "</div>"
      ],
      "text/plain": [
       "   Pclass     Sex   Age  SibSp     Fare\n",
       "0       3    male  22.0      1   7.2500\n",
       "1       1  female  38.0      1  71.2833\n",
       "2       3  female  26.0      0   7.9250"
      ]
     },
     "execution_count": 2,
     "metadata": {},
     "output_type": "execute_result"
    }
   ],
   "source": [
    "from catboost.datasets import titanic\n",
    "\n",
    "titanic_train, titanic_test = titanic()\n",
    "titanic_train_target = titanic_train.Survived\n",
    "\n",
    "titanic_train.drop(['PassengerId', 'Survived', 'Name', 'Parch', 'Ticket', 'Cabin', 'Embarked'], axis=1, inplace=True)\n",
    "titanic_test.drop(['PassengerId', 'Name', 'Parch', 'Ticket', 'Cabin', 'Embarked'], axis=1, inplace=True)\n",
    "\n",
    "titanic_train.head(3)"
   ]
  },
  {
   "cell_type": "markdown",
   "metadata": {},
   "source": [
    "# Simple grid search"
   ]
  },
  {
   "cell_type": "code",
   "execution_count": 3,
   "metadata": {},
   "outputs": [],
   "source": [
    "titanic_model = catboost.CatBoostClassifier(\n",
    "    iterations=20)"
   ]
  },
  {
   "cell_type": "code",
   "execution_count": 4,
   "metadata": {},
   "outputs": [],
   "source": [
    "train_pool = catboost.Pool(titanic_train, titanic_train_target, cat_features=['Pclass', 'Sex', 'SibSp'])\n",
    "test_pool = catboost.Pool(titanic_test, cat_features=['Pclass', 'Sex', 'SibSp'])"
   ]
  },
  {
   "cell_type": "code",
   "execution_count": 5,
   "metadata": {
    "scrolled": true
   },
   "outputs": [
    {
     "name": "stdout",
     "output_type": "stream",
     "text": [
      "0:\tParams searching. objective: 0.5068569\tbest: 0.5068569 (0)\ttotal: 641ms\tremaining: 25s\n",
      "3:\tParams searching. objective: 0.5037151\tbest: 0.4962506 (1)\ttotal: 2.46s\tremaining: 22.1s\n",
      "6:\tParams searching. objective: 0.4929148\tbest: 0.4882844 (5)\ttotal: 4.15s\tremaining: 19.6s\n",
      "9:\tParams searching. objective: 0.4995569\tbest: 0.4882844 (5)\ttotal: 5.82s\tremaining: 17.5s\n",
      "12:\tParams searching. objective: 0.4152935\tbest: 0.4152935 (12)\ttotal: 7.5s\tremaining: 15.6s\n",
      "15:\tParams searching. objective: 0.4151681\tbest: 0.4151681 (15)\ttotal: 9.12s\tremaining: 13.7s\n",
      "18:\tParams searching. objective: 0.4105241\tbest: 0.4085159 (16)\ttotal: 10.8s\tremaining: 11.9s\n",
      "21:\tParams searching. objective: 0.5032700\tbest: 0.4085159 (16)\ttotal: 12.5s\tremaining: 10.3s\n",
      "24:\tParams searching. objective: 0.5067932\tbest: 0.4085159 (16)\ttotal: 14.2s\tremaining: 8.51s\n",
      "27:\tParams searching. objective: 0.4962632\tbest: 0.4085159 (16)\ttotal: 15.8s\tremaining: 6.79s\n",
      "30:\tParams searching. objective: 0.4384475\tbest: 0.4085159 (16)\ttotal: 17.6s\tremaining: 5.1s\n",
      "33:\tParams searching. objective: 0.4225059\tbest: 0.4085159 (16)\ttotal: 19.2s\tremaining: 3.39s\n",
      "36:\tParams searching. objective: 0.4127494\tbest: 0.4085159 (16)\ttotal: 20.9s\tremaining: 1.7s\n",
      "39:\tParams searching. objective: 0.4091375\tbest: 0.4085159 (16)\ttotal: 22.7s\tremaining: 0us\n",
      "Now estimating quality using cross-validation...\n",
      "Done.\n"
     ]
    }
   ],
   "source": [
    "grid = {\n",
    "    'feature_border_type': ['Median', 'Uniform'],\n",
    "    'one_hot_max_size': [2, 3],\n",
    "    'learning_rate': [0.03, 0.1],\n",
    "    'l2_leaf_reg': [1, 3, 5, 7, 9]\n",
    "}\n",
    "grid_search_results = titanic_model.grid_search(grid, train_pool, shuffle=False, verbose=3)"
   ]
  },
  {
   "cell_type": "markdown",
   "metadata": {},
   "source": [
    "Parameters giving the best value of the loss function:"
   ]
  },
  {
   "cell_type": "code",
   "execution_count": 6,
   "metadata": {
    "scrolled": true
   },
   "outputs": [
    {
     "data": {
      "text/plain": [
       "{'feature_border_type': 'Median',\n",
       " 'l2_leaf_reg': 3,\n",
       " 'learning_rate': 0.1,\n",
       " 'one_hot_max_size': 3}"
      ]
     },
     "execution_count": 6,
     "metadata": {},
     "output_type": "execute_result"
    }
   ],
   "source": [
    "grid_search_results['params']"
   ]
  },
  {
   "cell_type": "markdown",
   "metadata": {},
   "source": [
    "Model is ready to use after searching:"
   ]
  },
  {
   "cell_type": "code",
   "execution_count": 7,
   "metadata": {},
   "outputs": [
    {
     "data": {
      "text/plain": [
       "array([[0.81777377, 0.18222623],\n",
       "       [0.50297593, 0.49702407],\n",
       "       [0.75946883, 0.24053117]])"
      ]
     },
     "execution_count": 7,
     "metadata": {},
     "output_type": "execute_result"
    }
   ],
   "source": [
    "predicted = titanic_model.predict_proba(test_pool)\n",
    "predicted[:3]"
   ]
  },
  {
   "cell_type": "markdown",
   "metadata": {},
   "source": [
    "# Searching over several grids"
   ]
  },
  {
   "cell_type": "code",
   "execution_count": 8,
   "metadata": {},
   "outputs": [
    {
     "name": "stdout",
     "output_type": "stream",
     "text": [
      "Grid #0\n",
      "0:\tParams searching. objective: 0.5068569\tbest: 0.5068569 (0)\ttotal: 634ms\tremaining: 9.52s\n",
      "4:\tParams searching. objective: 0.4339690\tbest: 0.4339690 (4)\ttotal: 2.84s\tremaining: 6.25s\n",
      "8:\tParams searching. objective: 0.5113267\tbest: 0.4085159 (7)\ttotal: 5.17s\tremaining: 4.02s\n",
      "12:\tParams searching. objective: 0.4384475\tbest: 0.4085159 (7)\ttotal: 7.65s\tremaining: 1.76s\n",
      "15:\tParams searching. objective: 0.4127494\tbest: 0.4085159 (7)\ttotal: 9.44s\tremaining: 0us\n",
      "Grid #1\n",
      "0:\tParams searching. objective: 0.4150399\tbest: 0.4150399 (0)\ttotal: 625ms\tremaining: 10.6s\n",
      "4:\tParams searching. objective: 0.3953455\tbest: 0.3953455 (4)\ttotal: 3.03s\tremaining: 7.87s\n",
      "8:\tParams searching. objective: 0.3997993\tbest: 0.3667056 (7)\ttotal: 5.41s\tremaining: 5.41s\n",
      "12:\tParams searching. objective: 0.3849115\tbest: 0.3667056 (7)\ttotal: 7.86s\tremaining: 3.02s\n",
      "16:\tParams searching. objective: 0.3954113\tbest: 0.3667056 (7)\ttotal: 10.2s\tremaining: 599ms\n",
      "17:\tParams searching. objective: 0.3778527\tbest: 0.3667056 (7)\ttotal: 10.8s\tremaining: 0us\n",
      "Now estimating quality using cross-validation...\n",
      "Done.\n"
     ]
    }
   ],
   "source": [
    "grid_1 = {\n",
    "    'feature_border_type': ['Median', 'Uniform'],\n",
    "    'one_hot_max_size': [2, 3],\n",
    "    'learning_rate': [0.03, 0.1],\n",
    "    'l2_leaf_reg': [1, 3]\n",
    "}\n",
    "grid_2 = {\n",
    "    'feature_border_type': ['Median', 'Uniform'],\n",
    "    'learning_rate': [0.1, 0.2, 0.3],\n",
    "    'l2_leaf_reg': [5, 7, 9]\n",
    "}\n",
    "grid_search_results = titanic_model.grid_search([grid_1, grid_2], train_pool, shuffle=False, verbose=4)"
   ]
  },
  {
   "cell_type": "code",
   "execution_count": 9,
   "metadata": {},
   "outputs": [
    {
     "data": {
      "text/plain": [
       "{'feature_border_type': 'Median', 'l2_leaf_reg': 7, 'learning_rate': 0.3}"
      ]
     },
     "execution_count": 9,
     "metadata": {},
     "output_type": "execute_result"
    }
   ],
   "source": [
    "grid_search_results['params']"
   ]
  },
  {
   "cell_type": "markdown",
   "metadata": {},
   "source": [
    "# Randomized search"
   ]
  },
  {
   "cell_type": "code",
   "execution_count": 10,
   "metadata": {},
   "outputs": [
    {
     "name": "stdout",
     "output_type": "stream",
     "text": [
      "0:\tParams searching. objective: 0.4400946\tbest: 0.4400946 (0)\ttotal: 571ms\tremaining: 6.28s\n",
      "1:\tParams searching. objective: 0.4487784\tbest: 0.4400946 (0)\ttotal: 1.1s\tremaining: 5.51s\n",
      "2:\tParams searching. objective: 0.4156919\tbest: 0.4156919 (2)\ttotal: 1.69s\tremaining: 5.07s\n",
      "3:\tParams searching. objective: 0.3571691\tbest: 0.3571691 (3)\ttotal: 2.33s\tremaining: 4.67s\n",
      "4:\tParams searching. objective: 0.4487784\tbest: 0.3571691 (3)\ttotal: 2.81s\tremaining: 3.93s\n",
      "5:\tParams searching. objective: 0.3944103\tbest: 0.3571691 (3)\ttotal: 3.36s\tremaining: 3.36s\n",
      "6:\tParams searching. objective: 0.4453991\tbest: 0.3571691 (3)\ttotal: 3.86s\tremaining: 2.76s\n",
      "7:\tParams searching. objective: 0.4013761\tbest: 0.3571691 (3)\ttotal: 4.42s\tremaining: 2.21s\n",
      "8:\tParams searching. objective: 0.4086284\tbest: 0.3571691 (3)\ttotal: 5.03s\tremaining: 1.68s\n",
      "9:\tParams searching. objective: 0.4451125\tbest: 0.3571691 (3)\ttotal: 5.51s\tremaining: 1.1s\n",
      "10:\tParams searching. objective: 0.4127659\tbest: 0.3571691 (3)\ttotal: 6.05s\tremaining: 550ms\n",
      "11:\tParams searching. objective: 0.4281491\tbest: 0.3571691 (3)\ttotal: 6.57s\tremaining: 0us\n",
      "Now estimating quality using cross-validation...\n",
      "Done.\n"
     ]
    }
   ],
   "source": [
    "from scipy import stats\n",
    "\n",
    "class StrangeDistribution:\n",
    "    def __init__(self, values):\n",
    "        self.values = values\n",
    "\n",
    "    def rvs(self):\n",
    "        return self.values[0]\n",
    "\n",
    "param_distribution = {\n",
    "    'one_hot_max_size': stats.bernoulli(p=0.2, loc=2),\n",
    "    'iterations': StrangeDistribution([20, 500, 1000]),\n",
    "    'border_count': [10, 6, 20, 4],\n",
    "    'depth': stats.binom(n=10, p=0.2)\n",
    "}\n",
    "\n",
    "grid_search_results = titanic_model.randomized_search(\n",
    "    param_distribution,\n",
    "    train_pool,\n",
    "    n_iter=12,\n",
    "    shuffle=False,\n",
    "    verbose=1\n",
    ")\n"
   ]
  },
  {
   "cell_type": "code",
   "execution_count": 11,
   "metadata": {},
   "outputs": [
    {
     "data": {
      "text/plain": [
       "{'border_count': 10, 'depth': 4.0, 'iterations': 20.0, 'one_hot_max_size': 3.0}"
      ]
     },
     "execution_count": 11,
     "metadata": {},
     "output_type": "execute_result"
    }
   ],
   "source": [
    "grid_search_results['params']"
   ]
  }
 ],
 "metadata": {
  "kernelspec": {
   "display_name": "Python 3",
   "language": "python",
   "name": "python3"
  },
  "language_info": {
   "codemirror_mode": {
    "name": "ipython",
    "version": 3
   },
   "file_extension": ".py",
   "mimetype": "text/x-python",
   "name": "python",
   "nbconvert_exporter": "python",
   "pygments_lexer": "ipython3",
   "version": "3.5.2"
  }
 },
 "nbformat": 4,
 "nbformat_minor": 2
}
